{
 "cells": [
  {
   "cell_type": "markdown",
   "metadata": {},
   "source": [
    "# <font color='red'>*LINEAR REGRESSION*\n",
    "**Linear regression is a linear approach for modeling the relationship between a scalar dependent variable y and one or more explanatory variables (or independent variables) denoted X.**\n",
    "\n",
    "In linear regression, the relationships are modeled using linear predictor functions whose unknown model parameters are estimated from the data,such models are called linear models.\n",
    "\n",
    "linear regression focuses on the conditional probability distribution of y given X, rather than on the joint probability distribution of y and X.\n",
    "\n",
    "*It is a very fast regression which is widely well understood by the people and this regression is higly interpretable.*\n",
    "\n"
   ]
  },
  {
   "cell_type": "markdown",
   "metadata": {},
   "source": [
    "## <font color='red'>Formula for linear regression\n",
    "$y = \\beta_0 + \\beta_1x_1 + \\beta_2x_2 + ... + \\beta_nx_n$\n",
    "\n",
    "- $y$ is the response\n",
    "- $\\beta_0$ is the intercept\n",
    "- $\\beta_1$ is the coefficient for $x_1$ (where the subscript of $beta$ and $x$ represents that feature number )\n",
    "- $\\beta_n$ is the coefficient for $x_n$ (the nth feature)\n",
    "\n",
    "The values of the  $\\beta$  are called the **model coefficients**. These values are \"learned\" during the model fitting step using the \"least squares\" criterion. Then, the fitted model can be used to make predictions!"
   ]
  },
  {
   "cell_type": "code",
   "execution_count": 19,
   "metadata": {},
   "outputs": [
    {
     "data": {
      "text/html": [
       "<div>\n",
       "<style>\n",
       "    .dataframe thead tr:only-child th {\n",
       "        text-align: right;\n",
       "    }\n",
       "\n",
       "    .dataframe thead th {\n",
       "        text-align: left;\n",
       "    }\n",
       "\n",
       "    .dataframe tbody tr th {\n",
       "        vertical-align: top;\n",
       "    }\n",
       "</style>\n",
       "<table border=\"1\" class=\"dataframe\">\n",
       "  <thead>\n",
       "    <tr style=\"text-align: right;\">\n",
       "      <th></th>\n",
       "      <th>Open</th>\n",
       "      <th>High</th>\n",
       "      <th>Low</th>\n",
       "      <th>Close</th>\n",
       "      <th>Adj Close</th>\n",
       "      <th>Volume</th>\n",
       "    </tr>\n",
       "    <tr>\n",
       "      <th>Date</th>\n",
       "      <th></th>\n",
       "      <th></th>\n",
       "      <th></th>\n",
       "      <th></th>\n",
       "      <th></th>\n",
       "      <th></th>\n",
       "    </tr>\n",
       "  </thead>\n",
       "  <tbody>\n",
       "    <tr>\n",
       "      <th>2009-12-31</th>\n",
       "      <td>30.447144</td>\n",
       "      <td>30.478571</td>\n",
       "      <td>30.080000</td>\n",
       "      <td>30.104286</td>\n",
       "      <td>26.986492</td>\n",
       "      <td>88102700</td>\n",
       "    </tr>\n",
       "    <tr>\n",
       "      <th>2010-01-04</th>\n",
       "      <td>30.490000</td>\n",
       "      <td>30.642857</td>\n",
       "      <td>30.340000</td>\n",
       "      <td>30.572857</td>\n",
       "      <td>27.406532</td>\n",
       "      <td>123432400</td>\n",
       "    </tr>\n",
       "    <tr>\n",
       "      <th>2010-01-05</th>\n",
       "      <td>30.657143</td>\n",
       "      <td>30.798571</td>\n",
       "      <td>30.464285</td>\n",
       "      <td>30.625713</td>\n",
       "      <td>27.453915</td>\n",
       "      <td>150476200</td>\n",
       "    </tr>\n",
       "    <tr>\n",
       "      <th>2010-01-06</th>\n",
       "      <td>30.625713</td>\n",
       "      <td>30.747143</td>\n",
       "      <td>30.107143</td>\n",
       "      <td>30.138571</td>\n",
       "      <td>27.017223</td>\n",
       "      <td>138040000</td>\n",
       "    </tr>\n",
       "    <tr>\n",
       "      <th>2010-01-07</th>\n",
       "      <td>30.250000</td>\n",
       "      <td>30.285715</td>\n",
       "      <td>29.864286</td>\n",
       "      <td>30.082857</td>\n",
       "      <td>26.967278</td>\n",
       "      <td>119282800</td>\n",
       "    </tr>\n",
       "  </tbody>\n",
       "</table>\n",
       "</div>"
      ],
      "text/plain": [
       "                 Open       High        Low      Close  Adj Close     Volume\n",
       "Date                                                                        \n",
       "2009-12-31  30.447144  30.478571  30.080000  30.104286  26.986492   88102700\n",
       "2010-01-04  30.490000  30.642857  30.340000  30.572857  27.406532  123432400\n",
       "2010-01-05  30.657143  30.798571  30.464285  30.625713  27.453915  150476200\n",
       "2010-01-06  30.625713  30.747143  30.107143  30.138571  27.017223  138040000\n",
       "2010-01-07  30.250000  30.285715  29.864286  30.082857  26.967278  119282800"
      ]
     },
     "execution_count": 19,
     "metadata": {},
     "output_type": "execute_result"
    }
   ],
   "source": [
    "import pandas as pd        #using pandas library to import data\n",
    "from pandas_datareader import data, wb     # to import datareader \n",
    "import pandas_datareader as pdr               #to read the data live\n",
    "import numpy as np                        #to import numpy arrays\n",
    "import matplotlib.pyplot as pyp        #to graphically plot our data\n",
    "from matplotlib.colors import ListedColormap\n",
    "df=pdr.get_data_yahoo('AAPL')               #to directly read and save the data\n",
    "df.head()        #to display top 5 rows of the data"
   ]
  },
  {
   "cell_type": "code",
   "execution_count": 3,
   "metadata": {},
   "outputs": [
    {
     "data": {
      "text/html": [
       "<div>\n",
       "<style>\n",
       "    .dataframe thead tr:only-child th {\n",
       "        text-align: right;\n",
       "    }\n",
       "\n",
       "    .dataframe thead th {\n",
       "        text-align: left;\n",
       "    }\n",
       "\n",
       "    .dataframe tbody tr th {\n",
       "        vertical-align: top;\n",
       "    }\n",
       "</style>\n",
       "<table border=\"1\" class=\"dataframe\">\n",
       "  <thead>\n",
       "    <tr style=\"text-align: right;\">\n",
       "      <th></th>\n",
       "      <th>Open</th>\n",
       "      <th>High</th>\n",
       "      <th>Low</th>\n",
       "      <th>Close</th>\n",
       "      <th>Adj Close</th>\n",
       "      <th>Volume</th>\n",
       "    </tr>\n",
       "    <tr>\n",
       "      <th>Date</th>\n",
       "      <th></th>\n",
       "      <th></th>\n",
       "      <th></th>\n",
       "      <th></th>\n",
       "      <th></th>\n",
       "      <th></th>\n",
       "    </tr>\n",
       "  </thead>\n",
       "  <tbody>\n",
       "    <tr>\n",
       "      <th>2017-12-08</th>\n",
       "      <td>170.490005</td>\n",
       "      <td>171.000000</td>\n",
       "      <td>168.820007</td>\n",
       "      <td>169.369995</td>\n",
       "      <td>169.369995</td>\n",
       "      <td>23355200</td>\n",
       "    </tr>\n",
       "    <tr>\n",
       "      <th>2017-12-11</th>\n",
       "      <td>169.199997</td>\n",
       "      <td>172.889999</td>\n",
       "      <td>168.789993</td>\n",
       "      <td>172.669998</td>\n",
       "      <td>172.669998</td>\n",
       "      <td>35273800</td>\n",
       "    </tr>\n",
       "    <tr>\n",
       "      <th>2017-12-12</th>\n",
       "      <td>172.149994</td>\n",
       "      <td>172.389999</td>\n",
       "      <td>171.460007</td>\n",
       "      <td>171.699997</td>\n",
       "      <td>171.699997</td>\n",
       "      <td>19409200</td>\n",
       "    </tr>\n",
       "    <tr>\n",
       "      <th>2017-12-13</th>\n",
       "      <td>172.500000</td>\n",
       "      <td>173.539993</td>\n",
       "      <td>172.000000</td>\n",
       "      <td>172.270004</td>\n",
       "      <td>172.270004</td>\n",
       "      <td>23818400</td>\n",
       "    </tr>\n",
       "    <tr>\n",
       "      <th>2017-12-14</th>\n",
       "      <td>172.399994</td>\n",
       "      <td>173.130005</td>\n",
       "      <td>171.649994</td>\n",
       "      <td>172.220001</td>\n",
       "      <td>172.220001</td>\n",
       "      <td>20438800</td>\n",
       "    </tr>\n",
       "  </tbody>\n",
       "</table>\n",
       "</div>"
      ],
      "text/plain": [
       "                  Open        High         Low       Close   Adj Close  \\\n",
       "Date                                                                     \n",
       "2017-12-08  170.490005  171.000000  168.820007  169.369995  169.369995   \n",
       "2017-12-11  169.199997  172.889999  168.789993  172.669998  172.669998   \n",
       "2017-12-12  172.149994  172.389999  171.460007  171.699997  171.699997   \n",
       "2017-12-13  172.500000  173.539993  172.000000  172.270004  172.270004   \n",
       "2017-12-14  172.399994  173.130005  171.649994  172.220001  172.220001   \n",
       "\n",
       "              Volume  \n",
       "Date                  \n",
       "2017-12-08  23355200  \n",
       "2017-12-11  35273800  \n",
       "2017-12-12  19409200  \n",
       "2017-12-13  23818400  \n",
       "2017-12-14  20438800  "
      ]
     },
     "execution_count": 3,
     "metadata": {},
     "output_type": "execute_result"
    }
   ],
   "source": [
    "df.tail()    #to display last 5 rows"
   ]
  },
  {
   "cell_type": "code",
   "execution_count": 35,
   "metadata": {},
   "outputs": [
    {
     "data": {
      "text/plain": [
       "(2004, 6)"
      ]
     },
     "execution_count": 35,
     "metadata": {},
     "output_type": "execute_result"
    }
   ],
   "source": [
    "data.shape      #to display rows and columns"
   ]
  },
  {
   "cell_type": "code",
   "execution_count": 37,
   "metadata": {},
   "outputs": [
    {
     "data": {
      "text/html": [
       "<div>\n",
       "<style>\n",
       "    .dataframe thead tr:only-child th {\n",
       "        text-align: right;\n",
       "    }\n",
       "\n",
       "    .dataframe thead th {\n",
       "        text-align: left;\n",
       "    }\n",
       "\n",
       "    .dataframe tbody tr th {\n",
       "        vertical-align: top;\n",
       "    }\n",
       "</style>\n",
       "<table border=\"1\" class=\"dataframe\">\n",
       "  <thead>\n",
       "    <tr style=\"text-align: right;\">\n",
       "      <th></th>\n",
       "      <th>Open</th>\n",
       "      <th>High</th>\n",
       "      <th>Low</th>\n",
       "      <th>Close</th>\n",
       "      <th>Adj Close</th>\n",
       "      <th>Volume</th>\n",
       "    </tr>\n",
       "  </thead>\n",
       "  <tbody>\n",
       "    <tr>\n",
       "      <th>count</th>\n",
       "      <td>2004.000000</td>\n",
       "      <td>2004.000000</td>\n",
       "      <td>2004.000000</td>\n",
       "      <td>2004.000000</td>\n",
       "      <td>2004.000000</td>\n",
       "      <td>2.004000e+03</td>\n",
       "    </tr>\n",
       "    <tr>\n",
       "      <th>mean</th>\n",
       "      <td>87.831399</td>\n",
       "      <td>88.574130</td>\n",
       "      <td>87.022390</td>\n",
       "      <td>87.821942</td>\n",
       "      <td>83.058275</td>\n",
       "      <td>8.616209e+07</td>\n",
       "    </tr>\n",
       "    <tr>\n",
       "      <th>std</th>\n",
       "      <td>35.384267</td>\n",
       "      <td>35.598464</td>\n",
       "      <td>35.169725</td>\n",
       "      <td>35.399739</td>\n",
       "      <td>36.257499</td>\n",
       "      <td>6.064564e+07</td>\n",
       "    </tr>\n",
       "    <tr>\n",
       "      <th>min</th>\n",
       "      <td>27.481428</td>\n",
       "      <td>28.000000</td>\n",
       "      <td>27.178572</td>\n",
       "      <td>27.435715</td>\n",
       "      <td>24.594294</td>\n",
       "      <td>1.147590e+07</td>\n",
       "    </tr>\n",
       "    <tr>\n",
       "      <th>25%</th>\n",
       "      <td>57.709642</td>\n",
       "      <td>58.371786</td>\n",
       "      <td>57.152500</td>\n",
       "      <td>57.843927</td>\n",
       "      <td>52.007870</td>\n",
       "      <td>3.975208e+07</td>\n",
       "    </tr>\n",
       "    <tr>\n",
       "      <th>50%</th>\n",
       "      <td>85.651428</td>\n",
       "      <td>86.373570</td>\n",
       "      <td>84.601428</td>\n",
       "      <td>85.640000</td>\n",
       "      <td>77.695362</td>\n",
       "      <td>7.093825e+07</td>\n",
       "    </tr>\n",
       "    <tr>\n",
       "      <th>75%</th>\n",
       "      <td>112.617498</td>\n",
       "      <td>113.800003</td>\n",
       "      <td>111.562502</td>\n",
       "      <td>112.722500</td>\n",
       "      <td>108.777428</td>\n",
       "      <td>1.136342e+08</td>\n",
       "    </tr>\n",
       "    <tr>\n",
       "      <th>max</th>\n",
       "      <td>175.110001</td>\n",
       "      <td>176.240005</td>\n",
       "      <td>174.649994</td>\n",
       "      <td>176.240005</td>\n",
       "      <td>175.608719</td>\n",
       "      <td>4.702495e+08</td>\n",
       "    </tr>\n",
       "  </tbody>\n",
       "</table>\n",
       "</div>"
      ],
      "text/plain": [
       "              Open         High          Low        Close    Adj Close  \\\n",
       "count  2004.000000  2004.000000  2004.000000  2004.000000  2004.000000   \n",
       "mean     87.831399    88.574130    87.022390    87.821942    83.058275   \n",
       "std      35.384267    35.598464    35.169725    35.399739    36.257499   \n",
       "min      27.481428    28.000000    27.178572    27.435715    24.594294   \n",
       "25%      57.709642    58.371786    57.152500    57.843927    52.007870   \n",
       "50%      85.651428    86.373570    84.601428    85.640000    77.695362   \n",
       "75%     112.617498   113.800003   111.562502   112.722500   108.777428   \n",
       "max     175.110001   176.240005   174.649994   176.240005   175.608719   \n",
       "\n",
       "             Volume  \n",
       "count  2.004000e+03  \n",
       "mean   8.616209e+07  \n",
       "std    6.064564e+07  \n",
       "min    1.147590e+07  \n",
       "25%    3.975208e+07  \n",
       "50%    7.093825e+07  \n",
       "75%    1.136342e+08  \n",
       "max    4.702495e+08  "
      ]
     },
     "execution_count": 37,
     "metadata": {},
     "output_type": "execute_result"
    }
   ],
   "source": [
    "data.describe()          # to display all the data in shortcut way"
   ]
  },
  {
   "cell_type": "code",
   "execution_count": 41,
   "metadata": {},
   "outputs": [
    {
     "data": {
      "text/plain": [
       "<bound method NDFrame.describe of                   Open        High         Low       Close   Adj Close  \\\n",
       "Date                                                                     \n",
       "2009-12-31   30.447144   30.478571   30.080000   30.104286   26.986492   \n",
       "2010-01-04   30.490000   30.642857   30.340000   30.572857   27.406532   \n",
       "2010-01-05   30.657143   30.798571   30.464285   30.625713   27.453915   \n",
       "2010-01-06   30.625713   30.747143   30.107143   30.138571   27.017223   \n",
       "2010-01-07   30.250000   30.285715   29.864286   30.082857   26.967278   \n",
       "2010-01-08   30.042856   30.285715   29.865715   30.282858   27.146566   \n",
       "2010-01-11   30.400000   30.428572   29.778572   30.015715   26.907093   \n",
       "2010-01-12   29.884285   29.967142   29.488571   29.674286   26.601023   \n",
       "2010-01-13   29.695715   30.132856   29.157143   30.092857   26.976244   \n",
       "2010-01-14   30.015715   30.065714   29.860001   29.918571   26.820007   \n",
       "2010-01-15   30.132856   30.228571   29.410000   29.418571   26.371792   \n",
       "2010-01-19   29.761429   30.741428   29.605715   30.719999   27.538433   \n",
       "2010-01-20   30.701429   30.792856   29.928572   30.247143   27.114555   \n",
       "2010-01-21   30.297142   30.472857   29.601429   29.724285   26.645842   \n",
       "2010-01-22   29.540001   29.642857   28.165714   28.250000   25.324244   \n",
       "2010-01-25   28.930000   29.242857   28.598572   29.010000   26.005541   \n",
       "2010-01-26   29.421429   30.530001   28.940001   29.420000   26.373072   \n",
       "2010-01-27   29.549999   30.082857   28.504286   29.697144   26.621517   \n",
       "2010-01-28   29.275715   29.357143   28.385714   28.469999   25.521461   \n",
       "2010-01-29   28.725714   28.885714   27.178572   27.437143   24.595573   \n",
       "2010-02-01   27.481428   28.000000   27.328571   27.818571   24.937496   \n",
       "2010-02-02   27.987143   28.045713   27.625713   27.980000   25.082211   \n",
       "2010-02-03   27.881428   28.600000   27.774286   28.461428   25.513775   \n",
       "2010-02-04   28.104286   28.338572   27.367144   27.435715   24.594294   \n",
       "2010-02-05   27.518572   28.000000   27.264286   27.922857   25.030981   \n",
       "2010-02-08   27.955715   28.268572   27.714285   27.731428   24.859381   \n",
       "2010-02-09   28.059999   28.214285   27.821428   28.027143   25.124472   \n",
       "2010-02-10   27.984285   28.085714   27.751429   27.874287   24.987444   \n",
       "2010-02-11   27.840000   28.535715   27.722857   28.381428   25.442059   \n",
       "2010-02-12   28.301428   28.805714   27.928572   28.625713   25.661045   \n",
       "...                ...         ...         ...         ...         ...   \n",
       "2017-11-02  166.600006  168.500000  165.279999  168.110001  167.507828   \n",
       "2017-11-03  174.000000  174.259995  171.119995  172.500000  171.882111   \n",
       "2017-11-06  172.369995  174.990005  171.720001  174.250000  173.625839   \n",
       "2017-11-07  173.910004  175.250000  173.600006  174.809998  174.183823   \n",
       "2017-11-08  174.660004  176.240005  174.330002  176.240005  175.608719   \n",
       "2017-11-09  175.110001  176.100006  173.139999  175.880005  175.250000   \n",
       "2017-11-10  175.110001  175.380005  174.270004  174.669998  174.669998   \n",
       "2017-11-13  173.500000  174.500000  173.399994  173.970001  173.970001   \n",
       "2017-11-14  173.039993  173.479996  171.179993  171.339996  171.339996   \n",
       "2017-11-15  169.970001  170.320007  168.380005  169.080002  169.080002   \n",
       "2017-11-16  171.179993  171.869995  170.300003  171.100006  171.100006   \n",
       "2017-11-17  171.039993  171.389999  169.639999  170.149994  170.149994   \n",
       "2017-11-20  170.289993  170.559998  169.559998  169.979996  169.979996   \n",
       "2017-11-21  170.779999  173.699997  170.779999  173.139999  173.139999   \n",
       "2017-11-22  173.360001  175.000000  173.050003  174.960007  174.960007   \n",
       "2017-11-24  175.100006  175.500000  174.649994  174.970001  174.970001   \n",
       "2017-11-27  175.050003  175.080002  173.339996  174.089996  174.089996   \n",
       "2017-11-28  174.300003  174.869995  171.860001  173.070007  173.070007   \n",
       "2017-11-29  172.630005  172.919998  167.160004  169.479996  169.479996   \n",
       "2017-11-30  170.429993  172.139999  168.440002  171.850006  171.850006   \n",
       "2017-12-01  169.949997  171.669998  168.500000  171.050003  171.050003   \n",
       "2017-12-04  172.479996  172.619995  169.630005  169.800003  169.800003   \n",
       "2017-12-05  169.059998  171.520004  168.399994  169.639999  169.639999   \n",
       "2017-12-06  167.500000  170.199997  166.460007  169.009995  169.009995   \n",
       "2017-12-07  169.029999  170.440002  168.910004  169.320007  169.320007   \n",
       "2017-12-08  170.490005  171.000000  168.820007  169.369995  169.369995   \n",
       "2017-12-11  169.199997  172.889999  168.789993  172.669998  172.669998   \n",
       "2017-12-12  172.149994  172.389999  171.460007  171.699997  171.699997   \n",
       "2017-12-13  172.500000  173.539993  172.000000  172.270004  172.270004   \n",
       "2017-12-14  172.399994  173.130005  171.649994  172.220001  172.220001   \n",
       "\n",
       "               Volume  \n",
       "Date                   \n",
       "2009-12-31   88102700  \n",
       "2010-01-04  123432400  \n",
       "2010-01-05  150476200  \n",
       "2010-01-06  138040000  \n",
       "2010-01-07  119282800  \n",
       "2010-01-08  111902700  \n",
       "2010-01-11  115557400  \n",
       "2010-01-12  148614900  \n",
       "2010-01-13  151473000  \n",
       "2010-01-14  108223500  \n",
       "2010-01-15  148516900  \n",
       "2010-01-19  182501900  \n",
       "2010-01-20  153038200  \n",
       "2010-01-21  152038600  \n",
       "2010-01-22  220441900  \n",
       "2010-01-25  266424900  \n",
       "2010-01-26  466777500  \n",
       "2010-01-27  430642100  \n",
       "2010-01-28  293375600  \n",
       "2010-01-29  311488100  \n",
       "2010-02-01  187469100  \n",
       "2010-02-02  174585600  \n",
       "2010-02-03  153832000  \n",
       "2010-02-04  189413000  \n",
       "2010-02-05  212576700  \n",
       "2010-02-08  119567700  \n",
       "2010-02-09  158221700  \n",
       "2010-02-10   92590400  \n",
       "2010-02-11  137586400  \n",
       "2010-02-12  163867200  \n",
       "...               ...  \n",
       "2017-11-02   41393400  \n",
       "2017-11-03   59398600  \n",
       "2017-11-06   35026300  \n",
       "2017-11-07   24361500  \n",
       "2017-11-08   24409500  \n",
       "2017-11-09   29482600  \n",
       "2017-11-10   25145500  \n",
       "2017-11-13   16982100  \n",
       "2017-11-14   24782500  \n",
       "2017-11-15   29158100  \n",
       "2017-11-16   23637500  \n",
       "2017-11-17   21899500  \n",
       "2017-11-20   16262400  \n",
       "2017-11-21   25131300  \n",
       "2017-11-22   25588900  \n",
       "2017-11-24   14026700  \n",
       "2017-11-27   20716800  \n",
       "2017-11-28   26428800  \n",
       "2017-11-29   41666400  \n",
       "2017-11-30   41527200  \n",
       "2017-12-01   39759300  \n",
       "2017-12-04   32542400  \n",
       "2017-12-05   27350200  \n",
       "2017-12-06   28560000  \n",
       "2017-12-07   25673300  \n",
       "2017-12-08   23355200  \n",
       "2017-12-11   35273800  \n",
       "2017-12-12   19409200  \n",
       "2017-12-13   23818400  \n",
       "2017-12-14   20438800  \n",
       "\n",
       "[2004 rows x 6 columns]>"
      ]
     },
     "execution_count": 41,
     "metadata": {},
     "output_type": "execute_result"
    }
   ],
   "source": [
    "data.describe      #to display all the data"
   ]
  },
  {
   "cell_type": "code",
   "execution_count": 8,
   "metadata": {},
   "outputs": [
    {
     "data": {
      "text/plain": [
       "Open         8.783140e+01\n",
       "High         8.857413e+01\n",
       "Low          8.702239e+01\n",
       "Close        8.782194e+01\n",
       "Adj Close    8.305827e+01\n",
       "Volume       8.616209e+07\n",
       "dtype: float64"
      ]
     },
     "execution_count": 8,
     "metadata": {},
     "output_type": "execute_result"
    }
   ],
   "source": [
    "df.mean()     #to display the mean pf the data"
   ]
  },
  {
   "cell_type": "code",
   "execution_count": 34,
   "metadata": {},
   "outputs": [
    {
     "data": {
      "text/plain": [
       "[<matplotlib.lines.Line2D at 0x112d2ecf8>,\n",
       " <matplotlib.lines.Line2D at 0x112d0dfd0>,\n",
       " <matplotlib.lines.Line2D at 0x112d0dc18>,\n",
       " <matplotlib.lines.Line2D at 0x1129e8320>,\n",
       " <matplotlib.lines.Line2D at 0x112981dd8>,\n",
       " <matplotlib.lines.Line2D at 0x112981080>]"
      ]
     },
     "execution_count": 34,
     "metadata": {},
     "output_type": "execute_result"
    },
    {
     "data": {
      "image/png": "[encoded data removed]",
      "text/plain": [
       "<matplotlib.figure.Figure at 0x1160c02e8>"
      ]
     },
     "metadata": {},
     "output_type": "display_data"
    }
   ],
   "source": [
    "pyp.title(\"APPLE SALES\")\n",
    "pyp.plot(df)\n"
   ]
  },
  {
   "cell_type": "code",
   "execution_count": 84,
   "metadata": {},
   "outputs": [
    {
     "data": {
      "text/plain": [
       "<matplotlib.axes._subplots.AxesSubplot at 0x116205f28>"
      ]
     },
     "execution_count": 84,
     "metadata": {},
     "output_type": "execute_result"
    },
    {
     "data": {
      "image/png": "[encoded data removed]",
      "text/plain": [
       "<matplotlib.figure.Figure at 0x116a2b208>"
      ]
     },
     "metadata": {},
     "output_type": "display_data"
    }
   ],
   "source": [
    "%matplotlib inline  \n",
    "df.plot(y=\"High\",x=\"Low\",color=\"BROWN\")       #for displaying the relation between High and Low"
   ]
  },
  {
   "cell_type": "code",
   "execution_count": 75,
   "metadata": {},
   "outputs": [
    {
     "data": {
      "image/png": "[encoded data removed]",
      "text/plain": [
       "<matplotlib.figure.Figure at 0x1161d3588>"
      ]
     },
     "metadata": {},
     "output_type": "display_data"
    }
   ],
   "source": [
    "pyp.plot(df,color=\"red\")\n",
    "pyp.show()"
   ]
  },
  {
   "cell_type": "markdown",
   "metadata": {},
   "source": [
    "## <font color='RED'>*Using a simple variable to assign it to a any column of the dataset and plot it using bargraph*"
   ]
  },
  {
   "cell_type": "code",
   "execution_count": 95,
   "metadata": {},
   "outputs": [
    {
     "data": {
      "text/plain": [
       "<matplotlib.axes._subplots.AxesSubplot at 0x118da5860>"
      ]
     },
     "execution_count": 95,
     "metadata": {},
     "output_type": "execute_result"
    },
    {
     "data": {
      "image/png": "[encoded data removed]",
      "text/plain": [
       "<matplotlib.figure.Figure at 0x118e01f28>"
      ]
     },
     "metadata": {},
     "output_type": "display_data"
    }
   ],
   "source": [
    "%matplotlib inline\n",
    "y=df['Volume']                 # for printing barchart\n",
    "y=df.Volume\n",
    "y.plot.bar()"
   ]
  },
  {
   "cell_type": "markdown",
   "metadata": {},
   "source": [
    "### <font color=\"red\"> *Splitting 'a' and 'b' for testing *"
   ]
  },
  {
   "cell_type": "code",
   "execution_count": 106,
   "metadata": {},
   "outputs": [
    {
     "name": "stdout",
     "output_type": "stream",
     "text": [
      "(1503,)\n",
      "(1503,)\n",
      "(501,)\n",
      "(501,)\n"
     ]
    }
   ],
   "source": [
    "a=df[\"Open\"]\n",
    "a=df.Open       #equivalent command that works if there are no spaces in the column name\n",
    "b=df[\"Close\"]\n",
    "b=df.Close       #equivalent command that works if there are no spaces in the column name\n",
    "from sklearn.cross_validation import train_test_split\n",
    "a_train, a_test, b_train, b_test = train_test_split(a, b, random_state=1)\n",
    "print(a_train.shape)\n",
    "print(b_train.shape)\n",
    "print(a_test.shape)\n",
    "print(b_test.shape)"
   ]
  },
  {
   "cell_type": "markdown",
   "metadata": {},
   "source": [
    "### <font color=\"RED\">Displaying some part of 'a' and 'b'  data "
   ]
  },
  {
   "cell_type": "code",
   "execution_count": 111,
   "metadata": {},
   "outputs": [
    {
     "data": {
      "text/plain": [
       "Date\n",
       "2009-12-31    30.104286\n",
       "2010-01-04    30.572857\n",
       "2010-01-05    30.625713\n",
       "2010-01-06    30.138571\n",
       "2010-01-07    30.082857\n",
       "Name: Close, dtype: float64"
      ]
     },
     "execution_count": 111,
     "metadata": {},
     "output_type": "execute_result"
    }
   ],
   "source": [
    "b.head()"
   ]
  },
  {
   "cell_type": "code",
   "execution_count": 112,
   "metadata": {},
   "outputs": [
    {
     "data": {
      "text/plain": [
       "Date\n",
       "2017-12-08    169.369995\n",
       "2017-12-11    172.669998\n",
       "2017-12-12    171.699997\n",
       "2017-12-13    172.270004\n",
       "2017-12-14    172.220001\n",
       "Name: Close, dtype: float64"
      ]
     },
     "execution_count": 112,
     "metadata": {},
     "output_type": "execute_result"
    }
   ],
   "source": [
    "b.tail()"
   ]
  },
  {
   "cell_type": "code",
   "execution_count": 108,
   "metadata": {},
   "outputs": [
    {
     "data": {
      "text/plain": [
       "Date\n",
       "2009-12-31    30.447144\n",
       "2010-01-04    30.490000\n",
       "2010-01-05    30.657143\n",
       "2010-01-06    30.625713\n",
       "2010-01-07    30.250000\n",
       "Name: Open, dtype: float64"
      ]
     },
     "execution_count": 108,
     "metadata": {},
     "output_type": "execute_result"
    }
   ],
   "source": [
    "a.head()"
   ]
  },
  {
   "cell_type": "code",
   "execution_count": 113,
   "metadata": {},
   "outputs": [
    {
     "data": {
      "text/plain": [
       "Date\n",
       "2017-12-08    170.490005\n",
       "2017-12-11    169.199997\n",
       "2017-12-12    172.149994\n",
       "2017-12-13    172.500000\n",
       "2017-12-14    172.399994\n",
       "Name: Open, dtype: float64"
      ]
     },
     "execution_count": 113,
     "metadata": {},
     "output_type": "execute_result"
    }
   ],
   "source": [
    "a.tail()"
   ]
  },
  {
   "cell_type": "markdown",
   "metadata": {},
   "source": [
    "## <font color=\"red\"> **Showing scattering** "
   ]
  },
  {
   "cell_type": "code",
   "execution_count": 133,
   "metadata": {},
   "outputs": [
    {
     "data": {
      "image/png": "[encoded data removed]",
      "text/plain": [
       "<matplotlib.figure.Figure at 0x1a20f7c908>"
      ]
     },
     "metadata": {},
     "output_type": "display_data"
    }
   ],
   "source": [
    "pyp.scatter(a,y)\n",
    "pyp.xlabel(\"Open\")\n",
    "pyp.ylabel(\"Volume\")\n",
    "pyp.show()"
   ]
  },
  {
   "cell_type": "code",
   "execution_count": null,
   "metadata": {
    "collapsed": true
   },
   "outputs": [],
   "source": []
  }
 ],
 "metadata": {
  "kernelspec": {
   "display_name": "Python 3",
   "language": "python",
   "name": "python3"
  },
  "language_info": {
   "codemirror_mode": {
    "name": "ipython",
    "version": 3
   },
   "file_extension": ".py",
   "mimetype": "text/x-python",
   "name": "python",
   "nbconvert_exporter": "python",
   "pygments_lexer": "ipython3",
   "version": "3.6.3"
  }
 },
 "nbformat": 4,
 "nbformat_minor": 2
}
