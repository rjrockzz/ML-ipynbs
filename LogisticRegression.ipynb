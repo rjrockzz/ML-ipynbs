{
 "cells": [
  {
   "cell_type": "markdown",
   "metadata": {},
   "source": [
    "# LOGISTIC REGRESSION\n",
    "\n",
    "\n",
    "\n",
    "Logistic regression is named for the function used at the core of the method, the logistic function. In linear regression, the outcome (dependent variable) is continuous. It can have any one of an infinite number of possible values. In logistic regression, the outcome (dependent variable) has only a limited number of possible values. Logistic Regression is used when response variable is categorical in nature.\n",
    "\n",
    "Since we are dealing with probabilities in this kind of regression, the output can't be greater than 1 or less than 0.\n",
    "\n",
    "$y = \\beta_0 + \\beta_1x_1 + \\beta_2x_2 + ... + \\beta_nx_n$\n",
    "\n",
    "Where,\n",
    "    $p$ is the probability\n",
    "\n",
    "We first put\n",
    "\n",
    "$$p = e^{y} = e^{\\beta_0 + \\beta_1x_1 + \\beta_2x_2 + ... + \\beta_nx_n} $$\n",
    "\n",
    "This solves our problem of the probability being negative.\n",
    "\n",
    "To make it always less than one, we perform the following operation:\n",
    "\n",
    "$$p = \\frac{e^{\\beta_0 + \\beta_1x_1 + \\beta_2x_2 + ... + \\beta_nx_n}}{e^{\\beta_0 + \\beta_1x_1 + \\beta_2x_2 + ... + \\beta_nx_n} + 1}$$\n",
    "\n",
    "The logistic function, also called the sigmoid function is an S-shaped curve that can take any real-valued number and map it into a value between 0 and 1, but never exactly at those limits.\n",
    "\n",
    "The odds ratio is:\n",
    "\n",
    "$$OR = \\frac{p}{1-p} = e^{\\beta_0 + \\beta_1x_1 + \\beta_2x_2 + ... + \\beta_nx_n} $$\n",
    "\n",
    "Taking logs we get the log-odds function\n",
    "\n",
    "$$\\log{OR} = \\log{\\frac{p}{1-p}} = \\beta_0 + \\beta_1x_1 + \\beta_2x_2 + ... + \\beta_nx_n $$\n",
    "\n",
    "This is the linear representation of the sigmoid function\n",
    "\n",
    "\n",
    "**Pros**: Robust, can handle non-linear effects, explicit interaction and power terms can be added\n",
    "\n",
    "**Cons**: Limited Outcome Variables, Independent observations required"
   ]
  },
  {
   "cell_type": "code",
   "execution_count": 192,
   "metadata": {
    "collapsed": true
   },
   "outputs": [],
   "source": [
    "import pandas as pd #to create our dataframes\n",
    "import matplotlib.pyplot as plt #for plotting the probability histograms and output distribution\n",
    "import numpy as np #to create numpy arrays\n",
    "from sklearn.model_selection import train_test_split #to divide our data sets into testing and training subsections\n",
    "from sklearn.preprocessing import StandardScaler #to standardize our data\n",
    "from sklearn.linear_model import LogisticRegression, LinearRegression #the module to carry out the logistic regression function\n",
    "from sklearn.metrics import accuracy_score, confusion_matrix, roc_auc_score #metrics we will use to score our classifier\n",
    "from matplotlib.colors import ListedColormap #for colors in the plots\n",
    "\n",
    "\n",
    "path = 'Table_76.csv'"
   ]
  },
  {
   "cell_type": "markdown",
   "metadata": {},
   "source": [
    "## Column explanations\n",
    "   1. 'pregnant' - Number of times pregnant\n",
    "   2. 'glucose' - Plasma glucose concentration a 2 hours in an oral glucose tolerance test\n",
    "   3. 'bp' - Diastolic blood pressure (mm Hg)\n",
    "   4. 'skin' - Triceps skin fold thickness (mm)\n",
    "   5. 'insulin' - 2-Hour serum insulin (mu U/ml)\n",
    "   6. 'bmi' - Body mass index (weight in kg/(height in m)^2)\n",
    "   7. 'pedigree' - Diabetes pedigree function\n",
    "   8. 'age' - Age (years)\n",
    "   9. 'diabetic' - Whether diabetic or not (0 or 1)"
   ]
  },
  {
   "cell_type": "code",
   "execution_count": 193,
   "metadata": {},
   "outputs": [
    {
     "data": {
      "text/html": [
       "<div>\n",
       "<style>\n",
       "    .dataframe thead tr:only-child th {\n",
       "        text-align: right;\n",
       "    }\n",
       "\n",
       "    .dataframe thead th {\n",
       "        text-align: left;\n",
       "    }\n",
       "\n",
       "    .dataframe tbody tr th {\n",
       "        vertical-align: top;\n",
       "    }\n",
       "</style>\n",
       "<table border=\"1\" class=\"dataframe\">\n",
       "  <thead>\n",
       "    <tr style=\"text-align: right;\">\n",
       "      <th></th>\n",
       "      <th>state</th>\n",
       "      <th>population</th>\n",
       "      <th>increase</th>\n",
       "      <th>area</th>\n",
       "      <th>density</th>\n",
       "      <th>sex-ratio</th>\n",
       "      <th>literacy</th>\n",
       "    </tr>\n",
       "  </thead>\n",
       "  <tbody>\n",
       "    <tr>\n",
       "      <th>0</th>\n",
       "      <td>India</td>\n",
       "      <td>1,210,854,977</td>\n",
       "      <td>17.64%</td>\n",
       "      <td>3,287,240</td>\n",
       "      <td>382</td>\n",
       "      <td>940</td>\n",
       "      <td>74.04</td>\n",
       "    </tr>\n",
       "    <tr>\n",
       "      <th>1</th>\n",
       "      <td>Uttar Pradesh</td>\n",
       "      <td>199,812,341</td>\n",
       "      <td>20.23%</td>\n",
       "      <td>240,928</td>\n",
       "      <td>829</td>\n",
       "      <td>912</td>\n",
       "      <td>67.68</td>\n",
       "    </tr>\n",
       "    <tr>\n",
       "      <th>2</th>\n",
       "      <td>Maharashtra</td>\n",
       "      <td>112,374,333</td>\n",
       "      <td>15.99%</td>\n",
       "      <td>307,713</td>\n",
       "      <td>365</td>\n",
       "      <td>929</td>\n",
       "      <td>82.34</td>\n",
       "    </tr>\n",
       "    <tr>\n",
       "      <th>3</th>\n",
       "      <td>Bihar</td>\n",
       "      <td>104,099,452</td>\n",
       "      <td>25.42%</td>\n",
       "      <td>94,163</td>\n",
       "      <td>1,106</td>\n",
       "      <td>918</td>\n",
       "      <td>61.80</td>\n",
       "    </tr>\n",
       "    <tr>\n",
       "      <th>4</th>\n",
       "      <td>West Bengal</td>\n",
       "      <td>91,276,115</td>\n",
       "      <td>13.84%</td>\n",
       "      <td>88,752</td>\n",
       "      <td>1,028</td>\n",
       "      <td>950</td>\n",
       "      <td>76.26</td>\n",
       "    </tr>\n",
       "  </tbody>\n",
       "</table>\n",
       "</div>"
      ],
      "text/plain": [
       "           state     population increase       area density  sex-ratio  \\\n",
       "0          India  1,210,854,977   17.64%  3,287,240     382        940   \n",
       "1  Uttar Pradesh    199,812,341   20.23%    240,928     829        912   \n",
       "2    Maharashtra    112,374,333   15.99%    307,713     365        929   \n",
       "3          Bihar    104,099,452   25.42%     94,163   1,106        918   \n",
       "4    West Bengal     91,276,115   13.84%     88,752   1,028        950   \n",
       "\n",
       "   literacy  \n",
       "0     74.04  \n",
       "1     67.68  \n",
       "2     82.34  \n",
       "3     61.80  \n",
       "4     76.26  "
      ]
     },
     "execution_count": 193,
     "metadata": {},
     "output_type": "execute_result"
    }
   ],
   "source": [
    "col_names = ['state', 'population', 'increase', 'area', 'density', 'sex-ratio','literacy'] #have to assign a column name\n",
    "                                                                                                #since dataset has no headers\n",
    "df = pd.read_csv(path, header = None, names = col_names)\n",
    "df.head()\n",
    "# print(df.head())\n",
    "# df.corr()\n",
    "# df2 = pd.read_csv('C:\\\\Users\\\\ACER\\\\Desktop\\\\hacathon\\\\litracy.csv')\n",
    "# display(df.head())\n",
    "# display(df2.head())\n",
    "# print(df.shape)\n",
    "# print(df2.shape)"
   ]
  },
  {
   "cell_type": "code",
   "execution_count": 198,
   "metadata": {},
   "outputs": [
    {
     "name": "stdout",
     "output_type": "stream",
     "text": [
      "<class 'numpy.ndarray'>\n"
     ]
    },
    {
     "data": {
      "text/plain": [
       "array([[  382,   940],\n",
       "       [  829,   912],\n",
       "       [  365,   929],\n",
       "       [ 1106,   918],\n",
       "       [ 1028,   950],\n",
       "       [  308,   993],\n",
       "       [  236,   931],\n",
       "       [  555,   996],\n",
       "       [  200,   928],\n",
       "       [  319,   973],\n",
       "       [  308,   919],\n",
       "       [  270,   979],\n",
       "       [  860,  1084],\n",
       "       [  414,   948],\n",
       "       [  398,   958],\n",
       "       [  551,   895],\n",
       "       [  189,   991],\n",
       "       [  573,   879],\n",
       "       [11320,   868],\n",
       "       [   56,   889],\n",
       "       [  189,   963],\n",
       "       [  123,   972],\n",
       "       [  350,   960],\n",
       "       [  132,   989],\n",
       "       [  128,   985],\n",
       "       [  119,   931],\n",
       "       [  394,   973],\n",
       "       [   17,   938],\n",
       "       [ 2547,  1037],\n",
       "       [   52,   976],\n",
       "       [ 9258,   818],\n",
       "       [   86,   890],\n",
       "       [   46,   876],\n",
       "       [  700,   774],\n",
       "       [ 2191,   618],\n",
       "       [ 2149,   946]])"
      ]
     },
     "metadata": {},
     "output_type": "display_data"
    }
   ],
   "source": [
    "X = df.iloc[:, [4,5]].values #first for our classifier we are chosing bmi and age as features\n",
    "print(type(X))\n",
    "\n",
    "y = df.iloc[:, 6].values #obviously the diabetic column is the labelX\n",
    "\n",
    "\n",
    "# display(X)\n",
    "# display(y)\n",
    "final = []\n",
    "\n",
    "for item in X:\n",
    "    for items in item:\n",
    "        if type(items) == str:\n",
    "            items = items.replace(\",\", \"\")\n",
    "        items = int(items)\n",
    "        final.append(items)\n",
    "final = np.array(final)\n",
    "X = final.reshape(-1, 2)\n",
    "display(X)\n",
    "\n",
    "#     print(type(item))"
   ]
  },
  {
   "cell_type": "code",
   "execution_count": 199,
   "metadata": {},
   "outputs": [],
   "source": [
    "X_train, X_test, y_train, y_test = train_test_split(X, y, test_size = 0.2) #we are assigning 30% of our data for testing\n",
    "\n"
   ]
  },
  {
   "cell_type": "code",
   "execution_count": 200,
   "metadata": {},
   "outputs": [
    {
     "data": {
      "text/plain": [
       "array([[ 700,  774],\n",
       "       [ 236,  931],\n",
       "       [ 270,  979],\n",
       "       [ 200,  928],\n",
       "       [ 551,  895],\n",
       "       [ 829,  912],\n",
       "       [ 365,  929],\n",
       "       [ 860, 1084],\n",
       "       [ 398,  958],\n",
       "       [  52,  976],\n",
       "       [2191,  618],\n",
       "       [  56,  889],\n",
       "       [ 555,  996],\n",
       "       [ 319,  973],\n",
       "       [2149,  946],\n",
       "       [ 350,  960],\n",
       "       [ 308,  919],\n",
       "       [ 189,  963],\n",
       "       [1028,  950],\n",
       "       [2547, 1037],\n",
       "       [ 382,  940],\n",
       "       [  17,  938],\n",
       "       [9258,  818],\n",
       "       [  46,  876],\n",
       "       [  86,  890],\n",
       "       [ 414,  948],\n",
       "       [ 128,  985],\n",
       "       [ 308,  993]])"
      ]
     },
     "execution_count": 200,
     "metadata": {},
     "output_type": "execute_result"
    }
   ],
   "source": [
    "X_train"
   ]
  },
  {
   "cell_type": "code",
   "execution_count": 201,
   "metadata": {},
   "outputs": [
    {
     "name": "stdout",
     "output_type": "stream",
     "text": [
      "\n"
     ]
    },
    {
     "name": "stderr",
     "output_type": "stream",
     "text": [
      "C:\\ProgramData\\Anaconda3\\lib\\site-packages\\sklearn\\utils\\validation.py:475: DataConversionWarning: Data with input dtype int32 was converted to float64 by StandardScaler.\n",
      "  warnings.warn(msg, DataConversionWarning)\n"
     ]
    }
   ],
   "source": [
    "sc = StandardScaler() #we need to scale our data so normalization or standardization is introduced\n",
    "\n",
    "sc.fit_transform(X_train)\n",
    "sc.transform(X_test)\n",
    "\n",
    "print(\"\")"
   ]
  },
  {
   "cell_type": "code",
   "execution_count": 212,
   "metadata": {},
   "outputs": [
    {
     "ename": "ValueError",
     "evalue": "Unknown label type: 'continuous'",
     "output_type": "error",
     "traceback": [
      "\u001b[1;31m---------------------------------------------------------------------------\u001b[0m",
      "\u001b[1;31mValueError\u001b[0m                                Traceback (most recent call last)",
      "\u001b[1;32m<ipython-input-212-830c3ef75750>\u001b[0m in \u001b[0;36m<module>\u001b[1;34m()\u001b[0m\n\u001b[0;32m      1\u001b[0m \u001b[0mlogreg\u001b[0m \u001b[1;33m=\u001b[0m \u001b[0mLogisticRegression\u001b[0m\u001b[1;33m(\u001b[0m\u001b[1;33m)\u001b[0m \u001b[1;31m#here we apply the regression\u001b[0m\u001b[1;33m\u001b[0m\u001b[0m\n\u001b[0;32m      2\u001b[0m \u001b[1;33m\u001b[0m\u001b[0m\n\u001b[1;32m----> 3\u001b[1;33m \u001b[0mlogreg\u001b[0m\u001b[1;33m.\u001b[0m\u001b[0mfit\u001b[0m\u001b[1;33m(\u001b[0m\u001b[0mX_train\u001b[0m\u001b[1;33m,\u001b[0m \u001b[0my_train\u001b[0m\u001b[1;33m)\u001b[0m\u001b[1;33m\u001b[0m\u001b[0m\n\u001b[0m\u001b[0;32m      4\u001b[0m \u001b[0mprint\u001b[0m\u001b[1;33m(\u001b[0m\u001b[0mtype\u001b[0m\u001b[1;33m(\u001b[0m\u001b[0mX_train\u001b[0m\u001b[1;33m)\u001b[0m\u001b[1;33m)\u001b[0m\u001b[1;33m\u001b[0m\u001b[0m\n\u001b[0;32m      5\u001b[0m \u001b[0mprint\u001b[0m\u001b[1;33m(\u001b[0m\u001b[0mtype\u001b[0m\u001b[1;33m(\u001b[0m\u001b[0my_train\u001b[0m\u001b[1;33m)\u001b[0m\u001b[1;33m)\u001b[0m\u001b[1;33m\u001b[0m\u001b[0m\n",
      "\u001b[1;32mC:\\ProgramData\\Anaconda3\\lib\\site-packages\\sklearn\\linear_model\\logistic.py\u001b[0m in \u001b[0;36mfit\u001b[1;34m(self, X, y, sample_weight)\u001b[0m\n\u001b[0;32m   1215\u001b[0m         X, y = check_X_y(X, y, accept_sparse='csr', dtype=_dtype,\n\u001b[0;32m   1216\u001b[0m                          order=\"C\")\n\u001b[1;32m-> 1217\u001b[1;33m         \u001b[0mcheck_classification_targets\u001b[0m\u001b[1;33m(\u001b[0m\u001b[0my\u001b[0m\u001b[1;33m)\u001b[0m\u001b[1;33m\u001b[0m\u001b[0m\n\u001b[0m\u001b[0;32m   1218\u001b[0m         \u001b[0mself\u001b[0m\u001b[1;33m.\u001b[0m\u001b[0mclasses_\u001b[0m \u001b[1;33m=\u001b[0m \u001b[0mnp\u001b[0m\u001b[1;33m.\u001b[0m\u001b[0munique\u001b[0m\u001b[1;33m(\u001b[0m\u001b[0my\u001b[0m\u001b[1;33m)\u001b[0m\u001b[1;33m\u001b[0m\u001b[0m\n\u001b[0;32m   1219\u001b[0m         \u001b[0mn_samples\u001b[0m\u001b[1;33m,\u001b[0m \u001b[0mn_features\u001b[0m \u001b[1;33m=\u001b[0m \u001b[0mX\u001b[0m\u001b[1;33m.\u001b[0m\u001b[0mshape\u001b[0m\u001b[1;33m\u001b[0m\u001b[0m\n",
      "\u001b[1;32mC:\\ProgramData\\Anaconda3\\lib\\site-packages\\sklearn\\utils\\multiclass.py\u001b[0m in \u001b[0;36mcheck_classification_targets\u001b[1;34m(y)\u001b[0m\n\u001b[0;32m    170\u001b[0m     if y_type not in ['binary', 'multiclass', 'multiclass-multioutput',\n\u001b[0;32m    171\u001b[0m                       'multilabel-indicator', 'multilabel-sequences']:\n\u001b[1;32m--> 172\u001b[1;33m         \u001b[1;32mraise\u001b[0m \u001b[0mValueError\u001b[0m\u001b[1;33m(\u001b[0m\u001b[1;34m\"Unknown label type: %r\"\u001b[0m \u001b[1;33m%\u001b[0m \u001b[0my_type\u001b[0m\u001b[1;33m)\u001b[0m\u001b[1;33m\u001b[0m\u001b[0m\n\u001b[0m\u001b[0;32m    173\u001b[0m \u001b[1;33m\u001b[0m\u001b[0m\n\u001b[0;32m    174\u001b[0m \u001b[1;33m\u001b[0m\u001b[0m\n",
      "\u001b[1;31mValueError\u001b[0m: Unknown label type: 'continuous'"
     ]
    }
   ],
   "source": [
    "logreg = LinearRegression() #here we apply the regression\n",
    "\n",
    "logreg.fit(X_train, y_train)\n",
    "print(type(X_train))\n",
    "print(type(y_train))"
   ]
  },
  {
   "cell_type": "code",
   "execution_count": 203,
   "metadata": {},
   "outputs": [
    {
     "name": "stdout",
     "output_type": "stream",
     "text": [
      "68.0804440132\n",
      "[ 0.00175292  0.00883827]\n"
     ]
    }
   ],
   "source": [
    "print(logreg.intercept_)\n",
    "print(logreg.coef_)\n"
   ]
  },
  {
   "cell_type": "code",
   "execution_count": 211,
   "metadata": {},
   "outputs": [
    {
     "name": "stdout",
     "output_type": "stream",
     "text": [
      "[ 77.05287935  78.13270347  76.51747169  76.85370601  95.59508649\n",
      "  77.37073132  76.88685248  77.17047217]\n",
      "77.0528793467 74.43 2.62287934674\n",
      "78.1327034702 61.8 16.3327034702\n",
      "76.5174716907 79.55 -3.03252830933\n",
      "76.8537060083 75.55 1.30370600832\n",
      "95.5950864924 86.21 9.3850864924\n",
      "77.370731321 88.7 -11.329268679\n",
      "76.8868524805 82.8 -5.91314751946\n",
      "77.1704721713 70.28 6.89047217132\n",
      "0\n"
     ]
    }
   ],
   "source": [
    "y_pred = logreg.predict(X_test)\n",
    "\n",
    "\n",
    "print(y_pred)\n",
    "y_test\n",
    "final = 0\n",
    "\n",
    "for counter, item in enumerate(y_pred):\n",
    "    result = item - y_test[counter]\n",
    "    print(item, y_test[counter], result)\n",
    "#     final += result\n",
    "print(final)\n",
    "# print(accuracy_score(y_test, y_pred)) #prediction based on what we thought would be the most important factor"
   ]
  },
  {
   "cell_type": "markdown",
   "metadata": {},
   "source": [
    "## NULL Accuracy\n",
    "\n",
    "For this method we take the class that is most frequent in our data set and see if that is predicted everywhere what would the accuracy be. This becomes our baseline to which we compare our regression accuracy."
   ]
  },
  {
   "cell_type": "code",
   "execution_count": 167,
   "metadata": {},
   "outputs": [
    {
     "ename": "AttributeError",
     "evalue": "'numpy.ndarray' object has no attribute 'value_counts'",
     "output_type": "error",
     "traceback": [
      "\u001b[1;31m---------------------------------------------------------------------------\u001b[0m",
      "\u001b[1;31mAttributeError\u001b[0m                            Traceback (most recent call last)",
      "\u001b[1;32m<ipython-input-167-54faa5af9cbc>\u001b[0m in \u001b[0;36m<module>\u001b[1;34m()\u001b[0m\n\u001b[1;32m----> 1\u001b[1;33m \u001b[0my\u001b[0m\u001b[1;33m.\u001b[0m\u001b[0mvalue_counts\u001b[0m\u001b[1;33m(\u001b[0m\u001b[1;33m)\u001b[0m\u001b[1;33m\u001b[0m\u001b[0m\n\u001b[0m",
      "\u001b[1;31mAttributeError\u001b[0m: 'numpy.ndarray' object has no attribute 'value_counts'"
     ]
    }
   ],
   "source": [
    "y.value_counts()"
   ]
  },
  {
   "cell_type": "code",
   "execution_count": 10,
   "metadata": {},
   "outputs": [
    {
     "data": {
      "text/plain": [
       "0.3489583333333333"
      ]
     },
     "execution_count": 10,
     "metadata": {},
     "output_type": "execute_result"
    }
   ],
   "source": [
    "y.mean()"
   ]
  },
  {
   "cell_type": "code",
   "execution_count": 11,
   "metadata": {},
   "outputs": [
    {
     "data": {
      "text/plain": [
       "0.6510416666666667"
      ]
     },
     "execution_count": 11,
     "metadata": {},
     "output_type": "execute_result"
    }
   ],
   "source": [
    "1 - y.mean() #NULL accuracy"
   ]
  },
  {
   "cell_type": "markdown",
   "metadata": {},
   "source": [
    "So we saw that, on basing our classifier on the 'bmi' and 'age' criterion, the accuracy of 69% is not that much better than our NULL accuracy of 65%. Thus we need to change our features."
   ]
  },
  {
   "cell_type": "code",
   "execution_count": 12,
   "metadata": {
    "collapsed": true
   },
   "outputs": [],
   "source": [
    "X = df.iloc[:, :-1] #we take all of the columns (except the label) as our features\n",
    "y = df.iloc[:, 8]"
   ]
  },
  {
   "cell_type": "code",
   "execution_count": 13,
   "metadata": {},
   "outputs": [
    {
     "name": "stdout",
     "output_type": "stream",
     "text": [
      "\n"
     ]
    }
   ],
   "source": [
    "X_train, X_test, y_train, y_test = train_test_split(X, y, test_size = 0.3)\n",
    "\n",
    "sc = StandardScaler()\n",
    "\n",
    "sc.fit_transform(X_train)\n",
    "sc.transform(X_test)\n",
    "\n",
    "print(\"\")"
   ]
  },
  {
   "cell_type": "code",
   "execution_count": 14,
   "metadata": {},
   "outputs": [
    {
     "name": "stdout",
     "output_type": "stream",
     "text": [
      "[-5.5163269]\n",
      "[[  8.47322753e-02   2.68152493e-02  -1.81430489e-02  -8.25727466e-03\n",
      "    1.18136847e-04   5.41994104e-02   7.39936116e-01   1.67474676e-02]]\n"
     ]
    }
   ],
   "source": [
    "logreg = LogisticRegression()\n",
    "\n",
    "logreg.fit(X_train, y_train)\n",
    "\n",
    "print(logreg.intercept_)\n",
    "print(logreg.coef_)\n"
   ]
  },
  {
   "cell_type": "code",
   "execution_count": 15,
   "metadata": {},
   "outputs": [
    {
     "name": "stdout",
     "output_type": "stream",
     "text": [
      "0.770562770563\n"
     ]
    }
   ],
   "source": [
    "y_pred = logreg.predict(X_test)\n",
    "\n",
    "print(accuracy_score(y_test, y_pred)) #accuracy increases"
   ]
  },
  {
   "cell_type": "code",
   "execution_count": 16,
   "metadata": {
    "collapsed": true
   },
   "outputs": [],
   "source": [
    "features_col = ['glucose', 'pedigree'] #by some trial and error, we change our features to just these two.\n",
    "\n",
    "X = df[features_col]\n",
    "\n",
    "y = df['diabetic']\n"
   ]
  },
  {
   "cell_type": "code",
   "execution_count": 17,
   "metadata": {},
   "outputs": [
    {
     "name": "stdout",
     "output_type": "stream",
     "text": [
      "\n"
     ]
    }
   ],
   "source": [
    "X_train, X_test, y_train, y_test = train_test_split(X, y, test_size = 0.3)\n",
    "\n",
    "sc = StandardScaler()\n",
    "\n",
    "sc.fit_transform(X_train)\n",
    "sc.transform(X_test)\n",
    "\n",
    "print(\"\")"
   ]
  },
  {
   "cell_type": "code",
   "execution_count": 18,
   "metadata": {},
   "outputs": [
    {
     "name": "stdout",
     "output_type": "stream",
     "text": [
      "[-4.33046948]\n",
      "[[ 0.02707095  0.9300736 ]]\n",
      "0.779220779221\n"
     ]
    }
   ],
   "source": [
    "logreg = LogisticRegression()\n",
    "\n",
    "logreg.fit(X_train, y_train)\n",
    "\n",
    "print(logreg.intercept_)\n",
    "print(logreg.coef_)\n",
    "y_pred = logreg.predict(X_test)\n",
    "\n",
    "print(accuracy_score(y_test, y_pred)) #accuracy doesn't change much therefore the most important features"
   ]
  },
  {
   "cell_type": "markdown",
   "metadata": {},
   "source": [
    "## The equation now\n",
    "\n",
    "\n",
    "$$\\log{\\frac{p}{1-p}} = -4.48 + 0.02 \\times Glucose + 0.45 \\times Pedigree$$"
   ]
  },
  {
   "cell_type": "code",
   "execution_count": 19,
   "metadata": {},
   "outputs": [
    {
     "name": "stdout",
     "output_type": "stream",
     "text": [
      "[[137  35]\n",
      " [ 16  43]]\n"
     ]
    },
    {
     "data": {
      "image/png": "[encoded data removed]",
      "text/plain": [
       "<matplotlib.figure.Figure at 0x277e22b36d8>"
      ]
     },
     "metadata": {},
     "output_type": "display_data"
    }
   ],
   "source": [
    "cm = confusion_matrix #this creates a confusion matrix for our data\n",
    "\n",
    "conmat = cm(y_pred, y_test)\n",
    "print(conmat)\n",
    "\n",
    "plt.matshow(conmat)     #0-0 True positive    0-1 False positive\n",
    "                        #1-0 False negative   1-1 True negative\n",
    "plt.show()"
   ]
  },
  {
   "cell_type": "code",
   "execution_count": 20,
   "metadata": {
    "collapsed": true
   },
   "outputs": [],
   "source": [
    "y_pred_prob = logreg.predict_proba(X_test)[:, 1] #this predicts the probability and slices to include only the columns with 1\n"
   ]
  },
  {
   "cell_type": "code",
   "execution_count": 21,
   "metadata": {},
   "outputs": [
    {
     "data": {
      "image/png": "[encoded data removed]",
      "text/plain": [
       "<matplotlib.figure.Figure at 0x277e216de10>"
      ]
     },
     "metadata": {},
     "output_type": "display_data"
    }
   ],
   "source": [
    "plt.hist(y_pred_prob, bins = 8) #because of the threshhold being 0.5, very few cases for class 1 above that probability\n",
    "plt.xlim(0, 1)\n",
    "plt.title(\"Predicted true cases\")\n",
    "plt.xlabel('Predicted probability')\n",
    "plt.ylabel('Frequency')\n",
    "plt.show()"
   ]
  },
  {
   "cell_type": "code",
   "execution_count": 22,
   "metadata": {},
   "outputs": [
    {
     "data": {
      "image/png": "[encoded data removed]",
      "text/plain": [
       "<matplotlib.figure.Figure at 0x277e2401550>"
      ]
     },
     "metadata": {},
     "output_type": "display_data"
    }
   ],
   "source": [
    "X_set, y_set = X_train, y_train   #our training output\n",
    "\n",
    "plt.figure()\n",
    "X1, X2 = np.meshgrid(np.arange(start = X_set.iloc[:, 0].min() - 1, stop = X_set.iloc[:, 0].max() + 1, step = 0.01),\n",
    "                    np.arange(start = X_set.iloc[:, 1].min() - 1, stop = X_set.iloc[:, 1].max() + 1, step = 0.01))\n",
    "plt.contourf(X1, X2, logreg.predict(np.array([X1.ravel(), X2.ravel()]).T).reshape(X1.shape),\n",
    "             alpha = 0.75, cmap = ListedColormap(('black', 'red')))\n",
    "\n",
    "\n",
    "plt.scatter(X_set.iloc[:,0], X_set.iloc[:,1], c = logreg.predict_proba(X_set)[:,1], cmap = ListedColormap(('black', 'red')),\n",
    "            alpha = 0.4)\n",
    "plt.xlabel('Glucose level ')\n",
    "plt.ylabel('pedigree')\n",
    "plt.show()"
   ]
  },
  {
   "cell_type": "code",
   "execution_count": 23,
   "metadata": {},
   "outputs": [
    {
     "data": {
      "image/png": "[encoded data removed]",
      "text/plain": [
       "<matplotlib.figure.Figure at 0x277e24151d0>"
      ]
     },
     "metadata": {},
     "output_type": "display_data"
    }
   ],
   "source": [
    "X_set, y_set = X_test, y_test  #our testing output\n",
    "plt.figure()\n",
    "X1, X2 = np.meshgrid(np.arange(start = X_set.iloc[:, 0].min() - 1, stop = X_set.iloc[:, 0].max() + 1, step = 0.01),\n",
    "                    np.arange(start = X_set.iloc[:, 1].min() - 1, stop = X_set.iloc[:, 1].max() + 1, step = 0.01))\n",
    "plt.contourf(X1, X2, logreg.predict(np.array([X1.ravel(), X2.ravel()]).T).reshape(X1.shape),\n",
    "             alpha = 0.75, cmap = ListedColormap(('black', 'red')))\n",
    "\n",
    "\n",
    "plt.scatter(X_set.iloc[:,0], X_set.iloc[:,1], c = logreg.predict_proba(X_set)[:,1], cmap = ListedColormap(('black', 'red')),\n",
    "            alpha = 0.4)\n",
    "plt.xlabel('Glucose level ')\n",
    "plt.ylabel('pedigree')\n",
    "plt.show()"
   ]
  }
 ],
 "metadata": {
  "kernelspec": {
   "display_name": "Python 3",
   "language": "python",
   "name": "python3"
  },
  "language_info": {
   "codemirror_mode": {
    "name": "ipython",
    "version": 3
   },
   "file_extension": ".py",
   "mimetype": "text/x-python",
   "name": "python",
   "nbconvert_exporter": "python",
   "pygments_lexer": "ipython3",
   "version": "3.6.3"
  }
 },
 "nbformat": 4,
 "nbformat_minor": 2
}
